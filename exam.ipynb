{
 "metadata": {
  "language_info": {
   "codemirror_mode": {
    "name": "ipython",
    "version": 3
   },
   "file_extension": ".py",
   "mimetype": "text/x-python",
   "name": "python",
   "nbconvert_exporter": "python",
   "pygments_lexer": "ipython3",
   "version": "3.7.4-final"
  },
  "orig_nbformat": 2,
  "kernelspec": {
   "name": "Python 3.7.4 64-bit ('files': conda)",
   "display_name": "Python 3.7.4 64-bit ('files': conda)",
   "metadata": {
    "interpreter": {
     "hash": "994879e7222662b79d141824b7f8979d9d48ee84e3d33dd44886d0d3bd3f3ed9"
    }
   }
  }
 },
 "nbformat": 4,
 "nbformat_minor": 2,
 "cells": [
  {
   "cell_type": "code",
   "execution_count": 1,
   "metadata": {},
   "outputs": [],
   "source": [
    "from core.exam import *"
   ]
  },
  {
   "cell_type": "code",
   "execution_count": 4,
   "metadata": {
    "tags": []
   },
   "outputs": [
    {
     "output_type": "stream",
     "name": "stdout",
     "text": " Ce corps, de générateur x est constitué de 2^2 = 4 élements qui sont : 0 , 1 , x , x + 1\n\n Avec gen = x : 0, 1 (= gen^0), gen^1 = x, gen^2 = x^{2} = x + 1, gen^3 = x^{3} = 1\n\nComme gen^3 = 1 , tous les éléments inversibles de GF (tous sauf 0) possèdent un inverse qui peut être déterminé par la relation: gen^n . gen^(3-n) = gen^3 = 1 \n\n On a alors : (1)^-1 = 1, (x)^-1 = x + 1, (x + 1)^-1 = x\n\n Les 4 (2^2) restes possibles dans la division Euclidienne par x^{2} + x + 1 sont: 0 , 1 , x , x + 1 \n"
    }
   ],
   "source": [
    "irred=[1,1,1]\n",
    "GF=GFverbose(irred,2)\n",
    "verifGen([1,0])\n",
    "lesInverses()\n",
    "tablesOpe(GF)"
   ]
  },
  {
   "cell_type": "code",
   "execution_count": 3,
   "metadata": {},
   "outputs": [],
   "source": [
    "def tablesOpe(GF):\n",
    "    \"\"\"\n",
    "    Bien initialiser GF avant !\n",
    "    \"\"\"\n",
    "    elts,p,d=GF[0],GF[1],GF[-1]\n",
    "\n",
    "    print(f\"\\nLes {p**d} ({p}^{d}) restes possibles dans la division Euclidienne par {printPoly(np.poly1d(config.IRRED_POLYNOMIAL))} sont: {elts} \")\n",
    "\n"
   ]
  },
  {
   "cell_type": "code",
   "execution_count": 25,
   "metadata": {},
   "outputs": [],
   "source": [
    "\n"
   ]
  },
  {
   "cell_type": "code",
   "execution_count": 2,
   "metadata": {},
   "outputs": [
    {
     "output_type": "execute_result",
     "data": {
      "text/plain": "&#39;1/12&#39;"
     },
     "metadata": {},
     "execution_count": 2
    }
   ],
   "source": [
    "# Si tu veux trouver la fraction équivalente à un résultat donné en décimal\n",
    "find_fraction(0.0833)"
   ]
  },
  {
   "cell_type": "code",
   "execution_count": 3,
   "metadata": {
    "tags": []
   },
   "outputs": [
    {
     "output_type": "stream",
     "name": "stdout",
     "text": "2 x^{3} + 10 x^{2} - 16 x - 24 = ( 2 x^{3} - 14 x^{2} + 8 x + 24 ) * (1.0) + (24.0 x^{2} - 24.0 x - 48.0) \n\n2 x^{3} - 14 x^{2} + 8 x + 24 = ( 24.0 x^{2} - 24.0 x - 48.0 ) * (0.0833333333333333 x - 0.5) + (0) \n\n24.0 x^{2} - 24.0 x - 48.0\n"
    }
   ],
   "source": [
    "#####\n",
    "p1=np.poly1d([2,10,-16,-24])\n",
    "p2=np.poly1d([2,-14,8,24])\n",
    "#####\n",
    "euclid_poly(p1,p2,True)"
   ]
  },
  {
   "cell_type": "code",
   "execution_count": 4,
   "metadata": {
    "tags": []
   },
   "outputs": [
    {
     "output_type": "stream",
     "name": "stdout",
     "text": "100 = 35*2 + 30\n35 = 30*1 + 5\n30 = 5*6 + 0\n"
    },
    {
     "output_type": "execute_result",
     "data": {
      "text/plain": "5"
     },
     "metadata": {},
     "execution_count": 4
    }
   ],
   "source": [
    "euclid(100,35,True)"
   ]
  },
  {
   "cell_type": "code",
   "execution_count": 5,
   "metadata": {
    "tags": []
   },
   "outputs": [
    {
     "output_type": "stream",
     "name": "stdout",
     "text": " n = 720 se décompose en 2^4 + 3^2 + 5^1 avec Phi(720) = 192 .\n\n Les éléments suivants sont coprimes avec 720 : [1, 7, 11, 13, 17, 19, 23, 29, 31, 37, 41, 43, 47, 49, 53, 59, 61, 67, 71, 73, 77, 79, 83, 89, 91, 97, 101, 103, 107, 109, 113, 119, 121, 127, 131, 133, 137, 139, 143, 149, 151, 157, 161, 163, 167, 169, 173, 179, 181, 187, 191, 193, 197, 199, 203, 209, 211, 217, 221, 223, 227, 229, 233, 239, 241, 247, 251, 253, 257, 259, 263, 269, 271, 277, 281, 283, 287, 289, 293, 299, 301, 307, 311, 313, 317, 319, 323, 329, 331, 337, 341, 343, 347, 349, 353, 359, 361, 367, 371, 373, 377, 379, 383, 389, 391, 397, 401, 403, 407, 409, 413, 419, 421, 427, 431, 433, 437, 439, 443, 449, 451, 457, 461, 463, 467, 469, 473, 479, 481, 487, 491, 493, 497, 499, 503, 509, 511, 517, 521, 523, 527, 529, 533, 539, 541, 547, 551, 553, 557, 559, 563, 569, 571, 577, 581, 583, 587, 589, 593, 599, 601, 607, 611, 613, 617, 619, 623, 629, 631, 637, 641, 643, 647, 649, 653, 659, 661, 667, 671, 673, 677, 679, 683, 689, 691, 697, 701, 703, 707, 709, 713, 719] \n"
    }
   ],
   "source": [
    "##### - variables\n",
    "n=720\n",
    "##### - invariables\n",
    "primeF(n)"
   ]
  },
  {
   "cell_type": "code",
   "execution_count": 18,
   "metadata": {},
   "outputs": [
    {
     "output_type": "execute_result",
     "data": {
      "text/plain": "243"
     },
     "metadata": {},
     "execution_count": 18
    }
   ],
   "source": [
    "3**"
   ]
  }
 ]
}