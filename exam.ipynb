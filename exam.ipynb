{
 "metadata": {
  "language_info": {
   "codemirror_mode": {
    "name": "ipython",
    "version": 3
   },
   "file_extension": ".py",
   "mimetype": "text/x-python",
   "name": "python",
   "nbconvert_exporter": "python",
   "pygments_lexer": "ipython3",
   "version": "3.7.4-final"
  },
  "orig_nbformat": 2,
  "kernelspec": {
   "name": "Python 3.7.4 64-bit ('files': virtualenv)",
   "display_name": "Python 3.7.4 64-bit ('files': virtualenv)",
   "metadata": {
    "interpreter": {
     "hash": "994879e7222662b79d141824b7f8979d9d48ee84e3d33dd44886d0d3bd3f3ed9"
    }
   }
  }
 },
 "nbformat": 4,
 "nbformat_minor": 2,
 "cells": [
  {
   "cell_type": "code",
   "execution_count": 1,
   "metadata": {},
   "outputs": [
    {
     "output_type": "error",
     "ename": "ModuleNotFoundError",
     "evalue": "No module named &#39;Katsumi.ressources.watch&#39;",
     "traceback": [
      "\u001b[0;31m---------------------------------------------------------------------------\u001b[0m",
      "\u001b[0;31mModuleNotFoundError\u001b[0m                       Traceback (most recent call last)",
      "\u001b[0;32m&lt;ipython-input-1-36556e31b0b7&gt;\u001b[0m in \u001b[0;36m&lt;module&gt;\u001b[0;34m\u001b[0m\n\u001b[0;32m----&gt; 1\u001b[0;31m \u001b[0;32mfrom\u001b[0m \u001b[0mKatsumi\u001b[0m\u001b[0;34m.\u001b[0m\u001b[0mcore\u001b[0m \u001b[0;32mimport\u001b[0m \u001b[0mkatsumi\u001b[0m\u001b[0;34m\u001b[0m\u001b[0;34m\u001b[0m\u001b[0m\n\u001b[0m",
      "\u001b[0;32m~/github/GS15/Katsumi/core/katsumi.py\u001b[0m in \u001b[0;36m&lt;module&gt;\u001b[0;34m\u001b[0m\n\u001b[1;32m      8\u001b[0m \u001b[0;32mimport\u001b[0m \u001b[0mKatsumi\u001b[0m\u001b[0;34m.\u001b[0m\u001b[0mressources\u001b[0m\u001b[0;34m.\u001b[0m\u001b[0minteractions\u001b[0m \u001b[0;32mas\u001b[0m \u001b[0mit\u001b[0m\u001b[0;34m\u001b[0m\u001b[0;34m\u001b[0m\u001b[0m\n\u001b[1;32m      9\u001b[0m \u001b[0;32mimport\u001b[0m \u001b[0mKatsumi\u001b[0m\u001b[0;34m.\u001b[0m\u001b[0mressources\u001b[0m\u001b[0;34m.\u001b[0m\u001b[0mconfig\u001b[0m \u001b[0;32mas\u001b[0m \u001b[0mconfig\u001b[0m\u001b[0;34m\u001b[0m\u001b[0;34m\u001b[0m\u001b[0m\n\u001b[0;32m---&gt; 10\u001b[0;31m \u001b[0;32mimport\u001b[0m \u001b[0mKatsumi\u001b[0m\u001b[0;34m.\u001b[0m\u001b[0mcore\u001b[0m\u001b[0;34m.\u001b[0m\u001b[0mcipher\u001b[0m\u001b[0;34m.\u001b[0m\u001b[0mkasumi\u001b[0m \u001b[0;32mas\u001b[0m \u001b[0mkasu\u001b[0m\u001b[0;34m\u001b[0m\u001b[0;34m\u001b[0m\u001b[0m\n\u001b[0m\u001b[1;32m     11\u001b[0m \u001b[0;34m\u001b[0m\u001b[0m\n\u001b[1;32m     12\u001b[0m \u001b[0;32mfrom\u001b[0m \u001b[0mKatsumi\u001b[0m\u001b[0;34m.\u001b[0m\u001b[0mcore\u001b[0m\u001b[0;34m.\u001b[0m\u001b[0mcipher\u001b[0m\u001b[0;34m.\u001b[0m\u001b[0mciphers\u001b[0m \u001b[0;32mimport\u001b[0m \u001b[0mrun\u001b[0m\u001b[0;34m\u001b[0m\u001b[0;34m\u001b[0m\u001b[0m\n",
      "\u001b[0;32m~/github/GS15/Katsumi/core/cipher/__init__.py\u001b[0m in \u001b[0;36m&lt;module&gt;\u001b[0;34m\u001b[0m\n\u001b[1;32m      8\u001b[0m \u001b[0;32mimport\u001b[0m \u001b[0mKatsumi\u001b[0m\u001b[0;34m.\u001b[0m\u001b[0mressources\u001b[0m\u001b[0;34m.\u001b[0m\u001b[0mbytesManager\u001b[0m \u001b[0;32mas\u001b[0m \u001b[0mbm\u001b[0m\u001b[0;34m\u001b[0m\u001b[0;34m\u001b[0m\u001b[0m\n\u001b[1;32m      9\u001b[0m \u001b[0;32mimport\u001b[0m \u001b[0mKatsumi\u001b[0m\u001b[0;34m.\u001b[0m\u001b[0mressources\u001b[0m\u001b[0;34m.\u001b[0m\u001b[0minteractions\u001b[0m \u001b[0;32mas\u001b[0m \u001b[0mit\u001b[0m\u001b[0;34m\u001b[0m\u001b[0;34m\u001b[0m\u001b[0m\n\u001b[0;32m---&gt; 10\u001b[0;31m \u001b[0;32mimport\u001b[0m \u001b[0mKatsumi\u001b[0m\u001b[0;34m.\u001b[0m\u001b[0mressources\u001b[0m\u001b[0;34m.\u001b[0m\u001b[0mwatch\u001b[0m \u001b[0;32mas\u001b[0m \u001b[0mwt\u001b[0m\u001b[0;34m\u001b[0m\u001b[0;34m\u001b[0m\u001b[0m\n\u001b[0m\u001b[1;32m     11\u001b[0m \u001b[0;34m\u001b[0m\u001b[0m\n\u001b[1;32m     12\u001b[0m \u001b[0;34m\u001b[0m\u001b[0m\n",
      "\u001b[0;31mModuleNotFoundError\u001b[0m: No module named &#39;Katsumi.ressources.watch&#39;"
     ]
    }
   ],
   "source": [
    "from Katsumi import *"
   ]
  },
  {
   "cell_type": "code",
   "execution_count": 1,
   "metadata": {},
   "outputs": [
    {
     "output_type": "error",
     "ename": "ModuleNotFoundError",
     "evalue": "No module named &#39;core&#39;",
     "traceback": [
      "\u001b[0;31m---------------------------------------------------------------------------\u001b[0m",
      "\u001b[0;31mModuleNotFoundError\u001b[0m                       Traceback (most recent call last)",
      "\u001b[0;32m&lt;ipython-input-1-800f64557652&gt;\u001b[0m in \u001b[0;36m&lt;module&gt;\u001b[0;34m\u001b[0m\n\u001b[0;32m----&gt; 1\u001b[0;31m \u001b[0;32mfrom\u001b[0m \u001b[0mexam\u001b[0m \u001b[0;32mimport\u001b[0m \u001b[0;34m*\u001b[0m\u001b[0;34m\u001b[0m\u001b[0;34m\u001b[0m\u001b[0m\n\u001b[0m",
      "\u001b[0;32m~/github/GS15/exam.py\u001b[0m in \u001b[0;36m&lt;module&gt;\u001b[0;34m\u001b[0m\n\u001b[1;32m      2\u001b[0m \u001b[0;31m# -*- coding: utf-8 -*-\u001b[0m\u001b[0;34m\u001b[0m\u001b[0;34m\u001b[0m\u001b[0;34m\u001b[0m\u001b[0m\n\u001b[1;32m      3\u001b[0m \u001b[0;34m\u001b[0m\u001b[0m\n\u001b[0;32m----&gt; 4\u001b[0;31m \u001b[0;32mfrom\u001b[0m \u001b[0mcore\u001b[0m\u001b[0;34m.\u001b[0m\u001b[0mgalois\u001b[0m \u001b[0;32mimport\u001b[0m \u001b[0;34m*\u001b[0m\u001b[0;34m\u001b[0m\u001b[0;34m\u001b[0m\u001b[0m\n\u001b[0m\u001b[1;32m      5\u001b[0m \u001b[0;32mfrom\u001b[0m \u001b[0mcore\u001b[0m\u001b[0;34m.\u001b[0m\u001b[0mbytesManager\u001b[0m \u001b[0;32mimport\u001b[0m \u001b[0;34m*\u001b[0m\u001b[0;34m\u001b[0m\u001b[0;34m\u001b[0m\u001b[0m\n\u001b[1;32m      6\u001b[0m \u001b[0;32mfrom\u001b[0m \u001b[0mcore\u001b[0m\u001b[0;34m.\u001b[0m\u001b[0mutils\u001b[0m \u001b[0;32mimport\u001b[0m \u001b[0;34m*\u001b[0m\u001b[0;34m\u001b[0m\u001b[0;34m\u001b[0m\u001b[0m\n",
      "\u001b[0;31mModuleNotFoundError\u001b[0m: No module named &#39;core&#39;"
     ]
    }
   ],
   "source": [
    "from exam import *"
   ]
  },
  {
   "cell_type": "code",
   "execution_count": 8,
   "metadata": {
    "tags": []
   },
   "outputs": [
    {
     "output_type": "stream",
     "name": "stdout",
     "text": "Ce corps, de générateur x est constitué de 2^3 = 8 élements qui sont : 0 , 1 , x , x + 1 , x^{2} , x^{2} + 1 , x^{2} + x , x^{2} + x + 1\n\nAvec gen = x : 0, 1 (= gen^0), gen^1 = x, gen^2 = x^{2}, gen^3 = x^{3} = x + 1, gen^4 = x^{4} = x^{2} + x, gen^5 = x^{5} = x^{2} + x + 1, gen^6 = x^{6} = x^{2} + 1, gen^7 = x^{7} = 1\n\nComme gen^7 = 1 , tous les éléments inversibles de GF (tous sauf 0) possèdent un inverse qui peut être déterminé par la relation: gen^n . gen^(7-n) = gen^7 = 1 \n\nOn a alors : (1)^-1 = 1, (x)^-1 = x^{2} + 1, (x^{2})^-1 = x^{2} + x + 1, (x + 1)^-1 = x^{2} + x, (x^{2} + x)^-1 = x + 1, (x^{2} + x + 1)^-1 = x^{2}, (x^{2} + 1)^-1 = x\n\nLes 8 (2^3) restes possibles dans la division Euclidienne par x^{3} + x + 1 sont: 0 , 1 , x , x + 1 , x^{2} , x^{2} + 1 , x^{2} + x , x^{2} + x + 1 \n\n La table d&#39;opération pour (+) est : \n┌──────────────────────────────────────────────────────────────────────────────────────┐\n [(+)           0             1             x             x + 1         x^{2}         x^{2} + 1     x^{2} + x     x^{2} + x + 1]\n [0             0             1             x             x + 1         x^{2}         x^{2} + 1     x^{2} + x     x^{2} + x + 1]\n [1             1             0             x + 1         x             x^{2} + 1     x^{2}         x^{2} + x + 1 x^{2} + x    ]\n [x             x             x + 1         0             1             x^{2} + x     x^{2} + x + 1 x^{2}         x^{2} + 1    ]\n [x + 1         x + 1         x             1             0             x^{2} + x + 1 x^{2} + x     x^{2} + 1     x^{2}        ]\n [x^{2}         x^{2}         x^{2} + 1     x^{2} + x     x^{2} + x + 1 0             1             x             x + 1        ]\n [x^{2} + 1     x^{2} + 1     x^{2}         x^{2} + x + 1 x^{2} + x     1             0             x + 1         x            ]\n [x^{2} + x     x^{2} + x     x^{2} + x + 1 x^{2}         x^{2} + 1     x             x + 1         0             1            ]\n [x^{2} + x + 1 x^{2} + x + 1 x^{2} + x     x^{2} + 1     x^{2}         x + 1         x             1             0            ]\n└──────────────────────────────────────────────────────────────────────────────────────┘\n┌──────────────────────────────────────────────────────────────────────────────────────┐\n [(x)           0 1             x             x + 1     x^{2}         x^{2} + 1 x^{2} + x x^{2} + x + 1]\n [0             0 0             0             0         0             0         0         0            ]\n [1             0 1             x             x + 1     x^{2}         x^{2} + 1 x^{2} + x x^{2} + x + 1]\n [x             0 x             x^{2}         x^{2} + x x^{2} + x + 1 x^{2} + 1 x + 1     1            ]\n [x + 1         0 x + 1         x^{2} + x     x^{2} + 1 x + 1         0         x^{2} + 1 x^{2} + x    ]\n [x^{2}         0 x^{2}         x^{2} + x + 1 x + 1     1             x^{2} + 1 x^{2} + x x            ]\n [x^{2} + 1     0 x^{2} + 1     x^{2} + 1     0         x^{2} + 1     0         0         x^{2} + 1    ]\n [x^{2} + x     0 x^{2} + x     x + 1         x^{2} + 1 x^{2} + x     0         x^{2} + 1 x + 1        ]\n [x^{2} + x + 1 0 x^{2} + x + 1 1             x^{2} + x x             x^{2} + 1 x + 1     x^{2}        ]\n└──────────────────────────────────────────────────────────────────────────────────────┘\n"
    }
   ],
   "source": [
    "irred=[1,0,1,1]\n",
    "GF=GFverbose(irred,3)\n",
    "verifGen(config.GENERATOR)\n",
    "lesInverses()\n",
    "tablesOpe(GF,[1,1,1,1])\n",
    "\n",
    "\n"
   ]
  },
  {
   "cell_type": "code",
   "execution_count": 2,
   "metadata": {},
   "outputs": [
    {
     "output_type": "execute_result",
     "data": {
      "text/plain": "&#39;1/12&#39;"
     },
     "metadata": {},
     "execution_count": 2
    }
   ],
   "source": [
    "# Si tu veux trouver la fraction équivalente à un résultat donné en décimal\n",
    "find_fraction(0.0833)"
   ]
  },
  {
   "cell_type": "code",
   "execution_count": 4,
   "metadata": {
    "tags": []
   },
   "outputs": [
    {
     "output_type": "stream",
     "name": "stdout",
     "text": "2 x^{3} + 10 x^{2} - 16 x - 24 = ( 2 x^{3} - 14 x^{2} + 8 x + 24 ) * (1.0) + (24.0 x^{2} - 24.0 x - 48.0) \n\n2 x^{3} - 14 x^{2} + 8 x + 24 = ( 24.0 x^{2} - 24.0 x - 48.0 ) * (0.0833333333333333 x - 0.5) + (0) \n\n24.0 x^{2} - 24.0 x - 48.0\n"
    }
   ],
   "source": [
    "#####\n",
    "p1=np.poly1d([2,10,-16,-24])\n",
    "p2=np.poly1d([2,-14,8,24])\n",
    "#####\n",
    "euclid_poly(p1,p2,True)"
   ]
  },
  {
   "cell_type": "code",
   "execution_count": 5,
   "metadata": {
    "tags": []
   },
   "outputs": [
    {
     "output_type": "stream",
     "name": "stdout",
     "text": "100 = 35*2 + 30\n35 = 30*1 + 5\n30 = 5*6 + 0\n"
    },
    {
     "output_type": "execute_result",
     "data": {
      "text/plain": "5"
     },
     "metadata": {},
     "execution_count": 5
    }
   ],
   "source": [
    "euclid(100,35,True)"
   ]
  },
  {
   "cell_type": "code",
   "execution_count": 6,
   "metadata": {
    "tags": []
   },
   "outputs": [
    {
     "output_type": "stream",
     "name": "stdout",
     "text": " n = 720 se décompose en 2^4 + 3^2 + 5^1 avec Phi(720) = 192 .\n\n Les éléments suivants sont coprimes avec 720 : [1, 7, 11, 13, 17, 19, 23, 29, 31, 37, 41, 43, 47, 49, 53, 59, 61, 67, 71, 73, 77, 79, 83, 89, 91, 97, 101, 103, 107, 109, 113, 119, 121, 127, 131, 133, 137, 139, 143, 149, 151, 157, 161, 163, 167, 169, 173, 179, 181, 187, 191, 193, 197, 199, 203, 209, 211, 217, 221, 223, 227, 229, 233, 239, 241, 247, 251, 253, 257, 259, 263, 269, 271, 277, 281, 283, 287, 289, 293, 299, 301, 307, 311, 313, 317, 319, 323, 329, 331, 337, 341, 343, 347, 349, 353, 359, 361, 367, 371, 373, 377, 379, 383, 389, 391, 397, 401, 403, 407, 409, 413, 419, 421, 427, 431, 433, 437, 439, 443, 449, 451, 457, 461, 463, 467, 469, 473, 479, 481, 487, 491, 493, 497, 499, 503, 509, 511, 517, 521, 523, 527, 529, 533, 539, 541, 547, 551, 553, 557, 559, 563, 569, 571, 577, 581, 583, 587, 589, 593, 599, 601, 607, 611, 613, 617, 619, 623, 629, 631, 637, 641, 643, 647, 649, 653, 659, 661, 667, 671, 673, 677, 679, 683, 689, 691, 697, 701, 703, 707, 709, 713, 719] \n"
    }
   ],
   "source": [
    "##### - variables\n",
    "n=720\n",
    "##### - invariables\n",
    "primeF(n)"
   ]
  },
  {
   "cell_type": "code",
   "execution_count": null,
   "metadata": {},
   "outputs": [],
   "source": []
  }
 ]
}